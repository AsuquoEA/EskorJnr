{
 "cells": [
  {
   "cell_type": "markdown",
   "id": "0a0f4429-8493-43bc-9409-eba35f884631",
   "metadata": {},
   "source": [
    "## Essential import conventions"
   ]
  },
  {
   "cell_type": "code",
   "execution_count": 58,
   "id": "2b369e6a-269d-4389-acd7-ddaedf69988f",
   "metadata": {},
   "outputs": [],
   "source": [
    "import pandas as pd\n",
    "import numpy as np\n",
    "import matplotlib.pyplot as plt\n",
    "import seaborn as sns\n",
    "import statsmodels as sm\n",
    "import matplotlib.ticker as ticker"
   ]
  },
  {
   "cell_type": "markdown",
   "id": "268d862b-af68-4158-95c1-fc075d3dde06",
   "metadata": {},
   "source": [
    "## Read .csv file "
   ]
  },
  {
   "cell_type": "code",
   "execution_count": 59,
   "id": "57f0927b-17ba-41f5-b421-a8dd05633802",
   "metadata": {},
   "outputs": [],
   "source": [
    "EM = pd.read_csv('Canada Energy Production.csv')"
   ]
  },
  {
   "cell_type": "markdown",
   "id": "4a25a762-03a4-4a5a-b865-4ea255dc5718",
   "metadata": {},
   "source": [
    "## Depict top 5 rows and last 5 rows"
   ]
  },
  {
   "cell_type": "code",
   "execution_count": 60,
   "id": "999b39f4-f12e-49e2-93ec-5126a9610a84",
   "metadata": {},
   "outputs": [
    {
     "data": {
      "text/html": [
       "<div>\n",
       "<style scoped>\n",
       "    .dataframe tbody tr th:only-of-type {\n",
       "        vertical-align: middle;\n",
       "    }\n",
       "\n",
       "    .dataframe tbody tr th {\n",
       "        vertical-align: top;\n",
       "    }\n",
       "\n",
       "    .dataframe thead th {\n",
       "        text-align: right;\n",
       "    }\n",
       "</style>\n",
       "<table border=\"1\" class=\"dataframe\">\n",
       "  <thead>\n",
       "    <tr style=\"text-align: right;\">\n",
       "      <th></th>\n",
       "      <th>domestic energy production in Canada</th>\n",
       "      <th>Value</th>\n",
       "      <th>Year</th>\n",
       "      <th>Units</th>\n",
       "    </tr>\n",
       "  </thead>\n",
       "  <tbody>\n",
       "    <tr>\n",
       "      <th>0</th>\n",
       "      <td>Coal and coal products</td>\n",
       "      <td>1440552</td>\n",
       "      <td>2000</td>\n",
       "      <td>TJ</td>\n",
       "    </tr>\n",
       "    <tr>\n",
       "      <th>1</th>\n",
       "      <td>Coal and coal products</td>\n",
       "      <td>1462923</td>\n",
       "      <td>2001</td>\n",
       "      <td>TJ</td>\n",
       "    </tr>\n",
       "    <tr>\n",
       "      <th>2</th>\n",
       "      <td>Coal and coal products</td>\n",
       "      <td>1363499</td>\n",
       "      <td>2002</td>\n",
       "      <td>TJ</td>\n",
       "    </tr>\n",
       "    <tr>\n",
       "      <th>3</th>\n",
       "      <td>Coal and coal products</td>\n",
       "      <td>1266862</td>\n",
       "      <td>2003</td>\n",
       "      <td>TJ</td>\n",
       "    </tr>\n",
       "    <tr>\n",
       "      <th>4</th>\n",
       "      <td>Coal and coal products</td>\n",
       "      <td>1347317</td>\n",
       "      <td>2004</td>\n",
       "      <td>TJ</td>\n",
       "    </tr>\n",
       "  </tbody>\n",
       "</table>\n",
       "</div>"
      ],
      "text/plain": [
       "  domestic energy production in Canada    Value  Year Units\n",
       "0               Coal and coal products  1440552  2000    TJ\n",
       "1               Coal and coal products  1462923  2001    TJ\n",
       "2               Coal and coal products  1363499  2002    TJ\n",
       "3               Coal and coal products  1266862  2003    TJ\n",
       "4               Coal and coal products  1347317  2004    TJ"
      ]
     },
     "execution_count": 60,
     "metadata": {},
     "output_type": "execute_result"
    }
   ],
   "source": [
    "EM.head()"
   ]
  },
  {
   "cell_type": "code",
   "execution_count": 61,
   "id": "edc8d5ce-a652-4f82-bf5f-c5ced58baa22",
   "metadata": {},
   "outputs": [
    {
     "data": {
      "text/html": [
       "<div>\n",
       "<style scoped>\n",
       "    .dataframe tbody tr th:only-of-type {\n",
       "        vertical-align: middle;\n",
       "    }\n",
       "\n",
       "    .dataframe tbody tr th {\n",
       "        vertical-align: top;\n",
       "    }\n",
       "\n",
       "    .dataframe thead th {\n",
       "        text-align: right;\n",
       "    }\n",
       "</style>\n",
       "<table border=\"1\" class=\"dataframe\">\n",
       "  <thead>\n",
       "    <tr style=\"text-align: right;\">\n",
       "      <th></th>\n",
       "      <th>domestic energy production in Canada</th>\n",
       "      <th>Value</th>\n",
       "      <th>Year</th>\n",
       "      <th>Units</th>\n",
       "    </tr>\n",
       "  </thead>\n",
       "  <tbody>\n",
       "    <tr>\n",
       "      <th>195</th>\n",
       "      <td>Heat</td>\n",
       "      <td>0</td>\n",
       "      <td>2020</td>\n",
       "      <td>TJ</td>\n",
       "    </tr>\n",
       "    <tr>\n",
       "      <th>196</th>\n",
       "      <td>Heat</td>\n",
       "      <td>0</td>\n",
       "      <td>2021</td>\n",
       "      <td>TJ</td>\n",
       "    </tr>\n",
       "    <tr>\n",
       "      <th>197</th>\n",
       "      <td>Heat</td>\n",
       "      <td>0</td>\n",
       "      <td>2022</td>\n",
       "      <td>TJ</td>\n",
       "    </tr>\n",
       "    <tr>\n",
       "      <th>198</th>\n",
       "      <td>Heat</td>\n",
       "      <td>0</td>\n",
       "      <td>2023</td>\n",
       "      <td>TJ</td>\n",
       "    </tr>\n",
       "    <tr>\n",
       "      <th>199</th>\n",
       "      <td>Heat</td>\n",
       "      <td>0</td>\n",
       "      <td>2024</td>\n",
       "      <td>TJ</td>\n",
       "    </tr>\n",
       "  </tbody>\n",
       "</table>\n",
       "</div>"
      ],
      "text/plain": [
       "    domestic energy production in Canada  Value  Year Units\n",
       "195                                 Heat      0  2020    TJ\n",
       "196                                 Heat      0  2021    TJ\n",
       "197                                 Heat      0  2022    TJ\n",
       "198                                 Heat      0  2023    TJ\n",
       "199                                 Heat      0  2024    TJ"
      ]
     },
     "execution_count": 61,
     "metadata": {},
     "output_type": "execute_result"
    }
   ],
   "source": [
    "EM.tail()"
   ]
  },
  {
   "cell_type": "markdown",
   "id": "306d0aa9-271a-46b2-9ccc-83fd9fe7bc66",
   "metadata": {},
   "source": [
    "## Check for nulls"
   ]
  },
  {
   "cell_type": "code",
   "execution_count": 62,
   "id": "857b08af-7070-43ac-8c56-4cf6e4e4d394",
   "metadata": {},
   "outputs": [
    {
     "data": {
      "text/html": [
       "<div>\n",
       "<style scoped>\n",
       "    .dataframe tbody tr th:only-of-type {\n",
       "        vertical-align: middle;\n",
       "    }\n",
       "\n",
       "    .dataframe tbody tr th {\n",
       "        vertical-align: top;\n",
       "    }\n",
       "\n",
       "    .dataframe thead th {\n",
       "        text-align: right;\n",
       "    }\n",
       "</style>\n",
       "<table border=\"1\" class=\"dataframe\">\n",
       "  <thead>\n",
       "    <tr style=\"text-align: right;\">\n",
       "      <th></th>\n",
       "      <th>domestic energy production in Canada</th>\n",
       "      <th>Value</th>\n",
       "      <th>Year</th>\n",
       "      <th>Units</th>\n",
       "    </tr>\n",
       "  </thead>\n",
       "  <tbody>\n",
       "    <tr>\n",
       "      <th>0</th>\n",
       "      <td>False</td>\n",
       "      <td>False</td>\n",
       "      <td>False</td>\n",
       "      <td>False</td>\n",
       "    </tr>\n",
       "    <tr>\n",
       "      <th>1</th>\n",
       "      <td>False</td>\n",
       "      <td>False</td>\n",
       "      <td>False</td>\n",
       "      <td>False</td>\n",
       "    </tr>\n",
       "    <tr>\n",
       "      <th>2</th>\n",
       "      <td>False</td>\n",
       "      <td>False</td>\n",
       "      <td>False</td>\n",
       "      <td>False</td>\n",
       "    </tr>\n",
       "    <tr>\n",
       "      <th>3</th>\n",
       "      <td>False</td>\n",
       "      <td>False</td>\n",
       "      <td>False</td>\n",
       "      <td>False</td>\n",
       "    </tr>\n",
       "    <tr>\n",
       "      <th>4</th>\n",
       "      <td>False</td>\n",
       "      <td>False</td>\n",
       "      <td>False</td>\n",
       "      <td>False</td>\n",
       "    </tr>\n",
       "    <tr>\n",
       "      <th>...</th>\n",
       "      <td>...</td>\n",
       "      <td>...</td>\n",
       "      <td>...</td>\n",
       "      <td>...</td>\n",
       "    </tr>\n",
       "    <tr>\n",
       "      <th>195</th>\n",
       "      <td>False</td>\n",
       "      <td>False</td>\n",
       "      <td>False</td>\n",
       "      <td>False</td>\n",
       "    </tr>\n",
       "    <tr>\n",
       "      <th>196</th>\n",
       "      <td>False</td>\n",
       "      <td>False</td>\n",
       "      <td>False</td>\n",
       "      <td>False</td>\n",
       "    </tr>\n",
       "    <tr>\n",
       "      <th>197</th>\n",
       "      <td>False</td>\n",
       "      <td>False</td>\n",
       "      <td>False</td>\n",
       "      <td>False</td>\n",
       "    </tr>\n",
       "    <tr>\n",
       "      <th>198</th>\n",
       "      <td>False</td>\n",
       "      <td>False</td>\n",
       "      <td>False</td>\n",
       "      <td>False</td>\n",
       "    </tr>\n",
       "    <tr>\n",
       "      <th>199</th>\n",
       "      <td>False</td>\n",
       "      <td>False</td>\n",
       "      <td>False</td>\n",
       "      <td>False</td>\n",
       "    </tr>\n",
       "  </tbody>\n",
       "</table>\n",
       "<p>200 rows × 4 columns</p>\n",
       "</div>"
      ],
      "text/plain": [
       "     domestic energy production in Canada  Value   Year  Units\n",
       "0                                   False  False  False  False\n",
       "1                                   False  False  False  False\n",
       "2                                   False  False  False  False\n",
       "3                                   False  False  False  False\n",
       "4                                   False  False  False  False\n",
       "..                                    ...    ...    ...    ...\n",
       "195                                 False  False  False  False\n",
       "196                                 False  False  False  False\n",
       "197                                 False  False  False  False\n",
       "198                                 False  False  False  False\n",
       "199                                 False  False  False  False\n",
       "\n",
       "[200 rows x 4 columns]"
      ]
     },
     "execution_count": 62,
     "metadata": {},
     "output_type": "execute_result"
    }
   ],
   "source": [
    "EM.isna()"
   ]
  },
  {
   "cell_type": "markdown",
   "id": "9bf26cf1-9597-4dc5-b7d9-005825db8451",
   "metadata": {},
   "source": [
    "## Check for data type"
   ]
  },
  {
   "cell_type": "code",
   "execution_count": 63,
   "id": "5e3dc92c-2ea1-43d1-b7e4-7699f1bb3e7f",
   "metadata": {},
   "outputs": [
    {
     "data": {
      "text/plain": [
       "domestic energy production in Canada    object\n",
       "Value                                    int64\n",
       "Year                                     int64\n",
       "Units                                   object\n",
       "dtype: object"
      ]
     },
     "execution_count": 63,
     "metadata": {},
     "output_type": "execute_result"
    }
   ],
   "source": [
    "EM.dtypes"
   ]
  },
  {
   "cell_type": "markdown",
   "id": "0e270fa9-50f9-4e19-922b-e1628ce5c11c",
   "metadata": {},
   "source": [
    "## Rename first column"
   ]
  },
  {
   "cell_type": "code",
   "execution_count": 64,
   "id": "9ece222c-f1ae-4805-bbba-5ddc89076e29",
   "metadata": {},
   "outputs": [],
   "source": [
    "EM.rename(columns={\"domestic energy production in Canada\": \"Energy Mix\"}, inplace=True)"
   ]
  },
  {
   "cell_type": "code",
   "execution_count": 65,
   "id": "fbacab8d-9cac-4af2-9bae-359328f0e90a",
   "metadata": {},
   "outputs": [
    {
     "data": {
      "text/plain": [
       "Energy Mix    object\n",
       "Value          int64\n",
       "Year           int64\n",
       "Units         object\n",
       "dtype: object"
      ]
     },
     "execution_count": 65,
     "metadata": {},
     "output_type": "execute_result"
    }
   ],
   "source": [
    "EM.dtypes"
   ]
  },
  {
   "cell_type": "markdown",
   "id": "fb562a72-c68d-4ff6-97ab-cddabbc34193",
   "metadata": {},
   "source": [
    "## Plot data"
   ]
  },
  {
   "cell_type": "code",
   "execution_count": 66,
   "id": "e77397d0-c440-4136-a294-da0f1dbd8c2b",
   "metadata": {},
   "outputs": [
    {
     "data": {
      "image/png": "[encoded data removed]",
      "text/plain": [
       "<Figure size 1200x700 with 1 Axes>"
      ]
     },
     "metadata": {},
     "output_type": "display_data"
    }
   ],
   "source": [
    "plt.figure(figsize=(12,7))\n",
    "for mix in EM['Energy Mix'].unique():\n",
    "    subset = EM[EM['Energy Mix'] == mix]\n",
    "    plt.bar(subset['Year'], subset['Value'], label=mix)\n",
    "plt.title('Domestic Energy Production in Canada by Energy Type')\n",
    "plt.xlabel('Year')\n",
    "plt.ylabel(EM['Units'].iloc[0])\n",
    "plt.legend()\n",
    "plt.grid(axis='y', linestyle='--', alpha=0.7)\n",
    "\n",
    "# Turn off scientific notation on the y-axis\n",
    "plt.gca().yaxis.set_major_formatter(ticker.StrMethodFormatter('{x:,.0f}'))\n",
    "\n",
    "plt.show()"
   ]
  },
  {
   "cell_type": "code",
   "execution_count": null,
   "id": "a51dd57a-eba6-4667-8a43-e747d0d7eb76",
   "metadata": {},
   "outputs": [],
   "source": []
  },
  {
   "cell_type": "code",
   "execution_count": null,
   "id": "beb48831-80f8-49ed-b5f1-89c38a10eda3",
   "metadata": {},
   "outputs": [],
   "source": []
  },
  {
   "cell_type": "code",
   "execution_count": null,
   "id": "66a2be31-dc3f-40bc-90de-e2e4052de4f3",
   "metadata": {},
   "outputs": [],
   "source": []
  },
  {
   "cell_type": "code",
   "execution_count": null,
   "id": "8a6c9673-cc70-4520-b4f1-6ba982b8bb4c",
   "metadata": {},
   "outputs": [],
   "source": []
  },
  {
   "cell_type": "code",
   "execution_count": null,
   "id": "d0665ae3-d9fb-463e-8430-7b49239629d2",
   "metadata": {},
   "outputs": [],
   "source": []
  },
  {
   "cell_type": "code",
   "execution_count": null,
   "id": "4b3f71a7-5268-46ff-8b0c-c015863ffd1d",
   "metadata": {},
   "outputs": [],
   "source": []
  }
 ],
 "metadata": {
  "kernelspec": {
   "display_name": "Python [conda env:base] *",
   "language": "python",
   "name": "conda-base-py"
  },
  "language_info": {
   "codemirror_mode": {
    "name": "ipython",
    "version": 3
   },
   "file_extension": ".py",
   "mimetype": "text/x-python",
   "name": "python",
   "nbconvert_exporter": "python",
   "pygments_lexer": "ipython3",
   "version": "3.12.7"
  }
 },
 "nbformat": 4,
 "nbformat_minor": 5
}
